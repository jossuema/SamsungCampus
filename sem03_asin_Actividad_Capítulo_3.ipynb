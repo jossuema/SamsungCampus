{
 "cells": [
  {
   "cell_type": "markdown",
   "id": "5ad8356f",
   "metadata": {},
   "source": [
    "# Actividades Capítulo 3.\n",
    "\n",
    "\n",
    "# Concepto básico de programación e inicio en Python\n",
    "\n",
    "## Resumen de actividades\n",
    "\n",
    "\n",
    "- **Unidad 17.** Función\n",
    "- **Unidad 18.** Llamada a la función de recurrencia.\n",
    "- **Unidad 19.** Lambda\n",
    "- **Unidad 20.** Clausura\n",
    "- **Unidad 21.** Clase\n"
   ]
  },
  {
   "cell_type": "markdown",
   "id": "8c5aa9c8",
   "metadata": {},
   "source": [
    "# Actividad: Creacion de funciones.\n",
    "\n",
    "\n",
    "## Instrucciones\n",
    "\n",
    "1. Defina en forma breve el concepto de función.\n",
    "\n",
    "2. Crear una función para realizar la suma de los números impares en el rango de 0 a 100, dentro de la función imprima los valores sumados y al final retorne el resultado de la sumatoria.\n"
   ]
  },
  {
   "cell_type": "code",
   "execution_count": 1,
   "id": "90cd2e33",
   "metadata": {},
   "outputs": [
    {
     "name": "stdout",
     "output_type": "stream",
     "text": [
      "1 3 5 7 9 11 13 15 17 19 21 23 25 27 29 31 33 35 37 39 41 43 45 47 49 51 53 55 57 59 61 63 65 67 69 71 73 75 77 79 81 83 85 87 89 91 93 95 97 99 \n",
      "Resultado de la sumatoria: 2500\n"
     ]
    }
   ],
   "source": [
    "# Una función es un bloque de código reutilizable que realiza una tarea específica,\n",
    "# puede recibir valores de entrada (parámetros) y devolver un resultado.\n",
    "\n",
    "# Función para sumar números impares de 0 a 100\n",
    "def suma_impares():\n",
    "    suma = 0\n",
    "    for i in range(1, 101, 2):\n",
    "        print(i, end=\" \")\n",
    "        suma += i\n",
    "    print(\"\\nResultado de la sumatoria:\", suma)\n",
    "    return suma\n",
    "\n",
    "resultado = suma_impares()"
   ]
  },
  {
   "cell_type": "markdown",
   "id": "a11871f3",
   "metadata": {},
   "source": [
    "# Actividad: Diseñe una función para codificar strings y otra para decodificar strings.\n",
    "\n",
    "1. Revise documentación relacionada a los procesos de encriptación, explique brevemente como funcionan.\n",
    "2. Ambas funciones deben tener como entrada un string y una ¨Clave\", la ¨Clave¨ será usada para codificar y decodificar.\n",
    "3. El desarrollo de está actividad esta abierto a multiples soluciones, por favor sea original en su respuesta.\n"
   ]
  },
  {
   "cell_type": "code",
   "execution_count": 2,
   "id": "1e7a5371",
   "metadata": {},
   "outputs": [
    {
     "name": "stdout",
     "output_type": "stream",
     "text": [
      "Texto codificado: »ÔÓÖÎèÓËä\n",
      "Texto decodificado: Hola mundo\n"
     ]
    }
   ],
   "source": [
    "def codificar(texto, clave):\n",
    "    resultado = \"\"\n",
    "    for i, ch in enumerate(texto):\n",
    "        shift = ord(clave[i % len(clave)])\n",
    "        nuevo = chr((ord(ch) + shift) % 1114111)  # rango Unicode\n",
    "        resultado += nuevo\n",
    "    return resultado\n",
    "\n",
    "def decodificar(texto_cod, clave):\n",
    "    resultado = \"\"\n",
    "    for i, ch in enumerate(texto_cod):\n",
    "        shift = ord(clave[i % len(clave)])\n",
    "        nuevo = chr((ord(ch) - shift) % 1114111)\n",
    "        resultado += nuevo\n",
    "    return resultado\n",
    "\n",
    "\n",
    "# Ejemplo de uso\n",
    "mensaje = \"Hola mundo\"\n",
    "clave   = \"segura\"\n",
    "\n",
    "cifrado = codificar(mensaje, clave)\n",
    "print(\"Texto codificado:\", cifrado)\n",
    "\n",
    "descifrado = decodificar(cifrado, clave)\n",
    "print(\"Texto decodificado:\", descifrado)"
   ]
  },
  {
   "cell_type": "markdown",
   "id": "a207d974",
   "metadata": {},
   "source": [
    "\n",
    "# Actividad: Diseñe y codifique una función.\n",
    "\n",
    "1. Diseñe una función que revise el contenido de una carpeta, la mision de esta funcion es revisar todas las carpetas existentes y obtener los nommbres de los archivos contenidos.\n",
    "2. Considere que dentro de cada carpete pueden existir otras carpetas.\n",
    "3. Todas las carpetas deben ser revisadas.\n",
    "4. Con la ejecucion de la siguiente celda se crearan las carpetas y los archivos.\n",
    "5. Es posible que debas considerar el uso de una función recursiva."
   ]
  },
  {
   "cell_type": "code",
   "execution_count": 3,
   "id": "b4ac1d5a",
   "metadata": {},
   "outputs": [
    {
     "name": "stdout",
     "output_type": "stream",
     "text": [
      "Carpeta_principal\n"
     ]
    }
   ],
   "source": [
    "import os\n",
    "import random\n",
    "\n",
    "def guardar_archivo(text_content, file_path):\n",
    "    with open(file_path, 'w') as file:\n",
    "        # Write the text content to the file\n",
    "        file.write(text_content)\n",
    "\n",
    "\n",
    "if os.path.exists(\"Carpeta_principal\"):\n",
    "    os.system(f'rm -r \"Carpeta_principal\"')\n",
    "\n",
    "os.mkdir(\"Carpeta_principal\")\n",
    "# Inicialización\n",
    "\n",
    "\n",
    "\n",
    "def crear_carpetas(ruta_actual):\n",
    "    global numeracion_del_archivo, numero_de_sub_carpetas\n",
    "    numero_de_archivos_o_carpetas = random.randint(0,15) # genración de numero aleatorio entre 0 y 15.\n",
    "    print(ruta_actual)\n",
    "    if numero_de_sub_carpetas < max_carpetas:\n",
    "        for n in range(0, numero_de_archivos_o_carpetas):\n",
    "\n",
    "            numero_aleatorio_2 = random.randint(0,2) # número aleatoria entre 0 y 1.\n",
    "            if numero_aleatorio_2 == 0:\n",
    "                os.mkdir(ruta_actual +'/'+ 'folder_{}'.format(n) )\n",
    "                print(ruta_actual +'/'+ 'folder_{}'.format(n))\n",
    "            else:\n",
    "                contenido_del_archivo = \"Contenido_{}\".format(numeracion_del_archivo)                \n",
    "                ruta_del_archivo = ruta_actual + '/' + \"archivo_{}.text\".format(numeracion_del_archivo)\n",
    "#                 print(\"ruta_del_archivo: \", ruta_del_archivo)\n",
    "                guardar_archivo(contenido_del_archivo, ruta_del_archivo)\n",
    "                numeracion_del_archivo += 1\n",
    "                \n",
    "        lista_de_nuevas_carpetas = [f.path for f in os.scandir(ruta_actual) if f.is_dir()] # Busqueda de nueva carpeta\n",
    "\n",
    "        numero_de_sub_carpetas += 1\n",
    "        for carpeta in lista_de_nuevas_carpetas:\n",
    "            crear_carpetas(carpeta)\n",
    "        \n",
    "max_carpetas = 4\n",
    "numeracion_del_archivo = 0\n",
    "numero_de_sub_carpetas = 0\n",
    "ruta_actual = \"Carpeta_principal\"\n",
    "crear_carpetas(ruta_actual)"
   ]
  },
  {
   "cell_type": "code",
   "execution_count": 4,
   "id": "a4f925a4",
   "metadata": {},
   "outputs": [
    {
     "name": "stdout",
     "output_type": "stream",
     "text": [
      "Archivos encontrados: ['archivo_0.text', 'archivo_1.text', 'archivo_2.text']\n"
     ]
    }
   ],
   "source": [
    "import os\n",
    "\n",
    "def obtener_archivos(ruta_actual):\n",
    "    archivos = []\n",
    "    \n",
    "    # Recorremos todo el contenido de la carpeta actual\n",
    "    for entry in os.scandir(ruta_actual):\n",
    "        # Si es un archivo, lo añadimos a la lista\n",
    "        if entry.is_file():\n",
    "            archivos.append(entry.name)\n",
    "        # Si es una carpeta, llamamos a la función recursivamente para explorar su contenido\n",
    "        elif entry.is_dir():\n",
    "            archivos.extend(obtener_archivos(entry.path))  # Añadimos los archivos de subcarpetas\n",
    "    \n",
    "    return archivos\n",
    "\n",
    "archivos_en_carpeta = obtener_archivos(\"Carpeta_principal\")\n",
    "print(\"Archivos encontrados:\", archivos_en_carpeta)"
   ]
  },
  {
   "cell_type": "markdown",
   "id": "26a6bb9e",
   "metadata": {},
   "source": [
    "# Actividad: Crear diccionarios y guardarlos como archivo JSON.\n",
    "\n",
    "De la unidad 11 sección 4.6 revise el ejemplo mostrado.\n",
    "\n",
    "Genera un diccionario, sobre la información que deseas guardar como base de datos, desarrollo el código necesario para generar el archivo JSON, y también el código para cargar la información del archivo JSON.\n"
   ]
  },
  {
   "cell_type": "code",
   "execution_count": 6,
   "id": "6670eace",
   "metadata": {},
   "outputs": [
    {
     "name": "stdout",
     "output_type": "stream",
     "text": [
      "Datos guardados correctamente en base_de_datos.json\n",
      "Datos cargados desde base_de_datos.json:\n",
      "{'clientes': [{'id': 1, 'nombre': 'Juan Pérez', 'email': 'juan.perez@email.com', 'telefono': '123-456-7890', 'direccion': 'Calle Ficticia 123'}, {'id': 2, 'nombre': 'Ana Gómez', 'email': 'ana.gomez@email.com', 'telefono': '987-654-3210', 'direccion': 'Avenida Real 456'}], 'productos': [{'id_producto': 101, 'nombre_producto': 'Laptop HP', 'precio': 1200.5, 'stock': 30}, {'id_producto': 102, 'nombre_producto': 'Smartphone Samsung', 'precio': 800.99, 'stock': 50}]}\n",
      "Nombre: Juan Pérez, Email: juan.perez@email.com\n",
      "Nombre: Ana Gómez, Email: ana.gomez@email.com\n"
     ]
    }
   ],
   "source": [
    "import json\n",
    "\n",
    "base_de_datos = {\n",
    "    \"clientes\": [\n",
    "        {\n",
    "            \"id\": 1,\n",
    "            \"nombre\": \"Juan Pérez\",\n",
    "            \"email\": \"juan.perez@email.com\",\n",
    "            \"telefono\": \"123-456-7890\",\n",
    "            \"direccion\": \"Calle Ficticia 123\"\n",
    "        },\n",
    "        {\n",
    "            \"id\": 2,\n",
    "            \"nombre\": \"Ana Gómez\",\n",
    "            \"email\": \"ana.gomez@email.com\",\n",
    "            \"telefono\": \"987-654-3210\",\n",
    "            \"direccion\": \"Avenida Real 456\"\n",
    "        }\n",
    "    ],\n",
    "    \"productos\": [\n",
    "        {\n",
    "            \"id_producto\": 101,\n",
    "            \"nombre_producto\": \"Laptop HP\",\n",
    "            \"precio\": 1200.50,\n",
    "            \"stock\": 30\n",
    "        },\n",
    "        {\n",
    "            \"id_producto\": 102,\n",
    "            \"nombre_producto\": \"Smartphone Samsung\",\n",
    "            \"precio\": 800.99,\n",
    "            \"stock\": 50\n",
    "        }\n",
    "    ]\n",
    "}\n",
    "\n",
    "with open('base_de_datos.json', 'w') as archivo_json:\n",
    "    json.dump(base_de_datos, archivo_json, indent=4)\n",
    "\n",
    "print(\"Datos guardados correctamente en base_de_datos.json\")\n",
    "\n",
    "with open('base_de_datos.json', 'r') as archivo_json:\n",
    "    datos_cargados = json.load(archivo_json)\n",
    "\n",
    "print(\"Datos cargados desde base_de_datos.json:\")\n",
    "print(datos_cargados)\n",
    "\n",
    "for cliente in datos_cargados[\"clientes\"]:\n",
    "    print(f\"Nombre: {cliente['nombre']}, Email: {cliente['email']}\")\n"
   ]
  },
  {
   "cell_type": "markdown",
   "id": "fbfb4985",
   "metadata": {},
   "source": [
    "# Actividad: Uso de la funcion Lambda.\n",
    "\n",
    "## Instrucciones\n",
    "\n",
    "1. Escriba una función regular donde se realice una operación.\n",
    "2. Escriba la misma función donde use la expresión lambda.\n",
    "3. Explica brevemente las ventajas de usar la función Lambda.\n"
   ]
  },
  {
   "cell_type": "code",
   "execution_count": 7,
   "id": "fc5b1a43",
   "metadata": {},
   "outputs": [
    {
     "name": "stdout",
     "output_type": "stream",
     "text": [
      "Resultado de la suma con función regular: 8\n",
      "Resultado de la suma con función lambda: 8\n"
     ]
    }
   ],
   "source": [
    "def suma(x, y):\n",
    "    return x + y\n",
    "\n",
    "# Uso de la función regular\n",
    "resultado = suma(5, 3)\n",
    "print(\"Resultado de la suma con función regular:\", resultado)\n",
    "\n",
    "suma_lambda = lambda x, y: x + y\n",
    "\n",
    "# Uso de la función lambda\n",
    "resultado_lambda = suma_lambda(5, 3)\n",
    "print(\"Resultado de la suma con función lambda:\", resultado_lambda)\n",
    "\n",
    "# Lambda es mas simple de implementar para escribir funciones pequeñas y de una sola línea."
   ]
  },
  {
   "cell_type": "markdown",
   "id": "98938d2d",
   "metadata": {},
   "source": [
    "# Actividad: Usar la función map para duplicar el valor de cada uno de los elementos contenidos.\n",
    "\n",
    "## Instrucciones\n",
    "\n",
    "1. Describa brevemente el funcionamiento y las ventajas de usar la función map\n",
    "2. Escriba el código en el siguiente espacio."
   ]
  },
  {
   "cell_type": "code",
   "execution_count": 8,
   "id": "a35ef1b7",
   "metadata": {},
   "outputs": [
    {
     "name": "stdout",
     "output_type": "stream",
     "text": [
      "Lista original: [1, 2, 3, 4, 5]\n",
      "Lista con valores duplicados: [2, 4, 6, 8, 10]\n"
     ]
    }
   ],
   "source": [
    "numeros = [1, 2, 3, 4, 5]\n",
    "\n",
    "# Usar map para duplicar el valor de cada elemento\n",
    "duplicados = list(map(lambda x: x * 2, numeros))\n",
    "\n",
    "print(\"Lista original:\", numeros)\n",
    "print(\"Lista con valores duplicados:\", duplicados)"
   ]
  }
 ],
 "metadata": {
  "kernelspec": {
   "display_name": "Python 3",
   "language": "python",
   "name": "python3"
  },
  "language_info": {
   "codemirror_mode": {
    "name": "ipython",
    "version": 3
   },
   "file_extension": ".py",
   "mimetype": "text/x-python",
   "name": "python",
   "nbconvert_exporter": "python",
   "pygments_lexer": "ipython3",
   "version": "3.13.7"
  }
 },
 "nbformat": 4,
 "nbformat_minor": 5
}
